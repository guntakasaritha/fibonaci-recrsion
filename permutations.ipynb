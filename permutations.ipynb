{
 "cells": [
  {
   "cell_type": "code",
   "execution_count": 3,
   "id": "20fdbaf0-c923-475f-b342-13cc674faeac",
   "metadata": {},
   "outputs": [
    {
     "name": "stdin",
     "output_type": "stream",
     "text": [
      "enter number of terms to print:  5\n"
     ]
    },
    {
     "name": "stdout",
     "output_type": "stream",
     "text": [
      "fibonacci series.....\n",
      "0 1 1 2 3 "
     ]
    }
   ],
   "source": [
    "# fib on tree recursions 0 1 1 2 3 5 8\n",
    "\n",
    "def fib(n):\n",
    "    if n<=1:\n",
    "        return n\n",
    "    return fib(n-1)+fib(n-2)\n",
    "terms = int(input(\"enter number of terms to print: \"))\n",
    "print((\"fibonacci series.....\"))\n",
    "for i in range(terms):\n",
    "    print(fib(i), end=' ')"
   ]
  },
  {
   "cell_type": "code",
   "execution_count": 3,
   "id": "763d9ecc-abbe-4b14-b058-b87d0d259b83",
   "metadata": {},
   "outputs": [
    {
     "name": "stdin",
     "output_type": "stream",
     "text": [
      "Enter a name/word:  abc\n"
     ]
    },
    {
     "name": "stdout",
     "output_type": "stream",
     "text": [
      "possibilities of combinations.....\n",
      " abc\n",
      " acb\n",
      " bac\n",
      " bca\n",
      " cab\n",
      " cba\n"
     ]
    }
   ],
   "source": [
    "''' permutations of char in tree recursion '''\n",
    "\n",
    "def permute(s, bucket=' '):\n",
    "    if not s:\n",
    "        print(bucket)\n",
    "        return\n",
    "    for i in range(len(s)):\n",
    "        ns=s[:i]+s[i+1:]\n",
    "        permute(ns,bucket+s[i])\n",
    "\n",
    "text=input(\"Enter a name/word: \")\n",
    "print(\"possibilities of combinations.....\")\n",
    "permute(text)"
   ]
  },
  {
   "cell_type": "code",
   "execution_count": null,
   "id": "494a210a-8ff1-49e9-863f-ac45a910f36f",
   "metadata": {},
   "outputs": [],
   "source": []
  }
 ],
 "metadata": {
  "kernelspec": {
   "display_name": "Python 3 (ipykernel)",
   "language": "python",
   "name": "python3"
  },
  "language_info": {
   "codemirror_mode": {
    "name": "ipython",
    "version": 3
   },
   "file_extension": ".py",
   "mimetype": "text/x-python",
   "name": "python",
   "nbconvert_exporter": "python",
   "pygments_lexer": "ipython3",
   "version": "3.12.7"
  }
 },
 "nbformat": 4,
 "nbformat_minor": 5
}
